{
 "cells": [
  {
   "cell_type": "markdown",
   "metadata": {},
   "source": [
    "# Jupyter Notebook GUI Test\n",
    "\n",
    "This notebook intends to test the GUI portion of the notebook."
   ]
  },
  {
   "cell_type": "code",
   "execution_count": 1,
   "metadata": {},
   "outputs": [],
   "source": [
    "from IPython.display import clear_output\n",
    "from ipywidgets import interact, interactive, fixed, interact_manual\n",
    "import ipywidgets as widgets"
   ]
  },
  {
   "cell_type": "markdown",
   "metadata": {},
   "source": [
    "## Fibonacci Sequence\n",
    "Enter a number and have the program generate the Fibonacci sequence to that number or to the Nth number."
   ]
  },
  {
   "cell_type": "code",
   "execution_count": null,
   "metadata": {},
   "outputs": [],
   "source": [
    "def fib(num):\n",
    "    if(num <= 1):\n",
    "        return num\n",
    "    \n",
    "    return fib(num-1) + fib(num-2)"
   ]
  },
  {
   "cell_type": "code",
   "execution_count": null,
   "metadata": {},
   "outputs": [],
   "source": [
    "def printFib(num):\n",
    "    print(\"Fibonacci: \", fib(num))"
   ]
  },
  {
   "cell_type": "code",
   "execution_count": null,
   "metadata": {
    "scrolled": true
   },
   "outputs": [],
   "source": [
    "x = interactive(printFib, num=5, min=0, max=100);\n",
    "display(x)"
   ]
  },
  {
   "cell_type": "markdown",
   "metadata": {},
   "source": [
    "## Temperature Unit Converter\n",
    "Converts various units between one another. The user enters the type of unit being entered, the type of unit they want to convert to and then the value. The program will then make the conversion."
   ]
  },
  {
   "cell_type": "code",
   "execution_count": null,
   "metadata": {},
   "outputs": [],
   "source": [
    "def convert(temp, oldUnit, newUnit):\n",
    "    if oldUnit is \"Celsius\" and newUnit is \"Farenheit\":\n",
    "        return ((temp * 9/5) + 32)\n",
    "    elif oldUnit is \"Celsius\" and newUnit is \"Kelvin\":\n",
    "        return temp + 273.15\n",
    "    elif oldUnit is \"Farenheit\" and newUnit is \"Celsius\":\n",
    "        return ((temp -32) * 5/9)\n",
    "    elif oldUnit is \"Farenheit\" and newUnit is \"Kelvin\":\n",
    "        return ((temp + 459.67) * 5/9)\n",
    "    elif oldUnit is \"Kelvin\" and newUnit is \"Celsius\":\n",
    "        return (temp - 273.15)\n",
    "    elif oldUnit is \"Kelvin\" and newUnit is \"Farenheit\":\n",
    "        return ((temp * 9/5) - 459.67)\n",
    "    else:\n",
    "        print(\"Please put in Earthly Temperatures. Thanks.\")\n",
    "        return -1\n",
    "    \n"
   ]
  },
  {
   "cell_type": "markdown",
   "metadata": {},
   "source": [
    "### Temperature Unit Converter GUI\n",
    "Here is a simple program that converts the convert the temperature into other units. To test the implementation of the Jupyter GUI, I used the Jupyter Widgets which can be seen below."
   ]
  },
  {
   "cell_type": "code",
   "execution_count": null,
   "metadata": {},
   "outputs": [],
   "source": [
    "oldUnit = widgets.Dropdown(\n",
    "    options=['Celsius', 'Farenheit', 'Kelvin'],\n",
    "    value='Celsius',\n",
    "    description='From:',\n",
    "    disabled=False\n",
    ")\n",
    "\n",
    "newUnit = widgets.Dropdown(\n",
    "    options=['Celsius', 'Farenheit', 'Kelvin'],\n",
    "    value='Celsius',\n",
    "    description='To:',\n",
    "    disabled=False\n",
    ")\n",
    "\n",
    "\n",
    "temp = widgets.IntSlider(\n",
    "    value = 0,\n",
    "    description='Temperature',\n",
    "    min = 0,\n",
    "    max = 100\n",
    "    \n",
    ")\n",
    "\n",
    "button = widgets.Button(description=\"Convert!\")\n",
    "\n",
    "def displayTempGUI():\n",
    "    display(oldUnit)\n",
    "    display(newUnit)\n",
    "    display(temp)\n",
    "    display(button)\n",
    "\n",
    "\n",
    "def on_button_clicked(b):\n",
    "    clear_output()\n",
    "    displayTempGUI()\n",
    "    tempConverted = convert(temp.value, oldUnit.value, newUnit.value)\n",
    "    print(\"Your New Converted Temperature is: \",tempConverted)\n",
    "\n",
    "    \n",
    "displayTempGUI()\n",
    "button.on_click(on_button_clicked)"
   ]
  },
  {
   "cell_type": "markdown",
   "metadata": {},
   "source": [
    "## Change Return Program\n",
    "The user enters a cost and then the amount of money given. The program will figure out the change and the number of quarters, dimes, nickels, pennies needed for the change."
   ]
  },
  {
   "cell_type": "code",
   "execution_count": null,
   "metadata": {},
   "outputs": [],
   "source": [
    "class Change(object):\n",
    "    \n",
    "    def __init__(self, amount):\n",
    "        self.amount = amount\n",
    "\n",
    "    def calcPennies(self):\n",
    "        print(\"You got this amount of Pennies:\", self.amount)\n",
    "    \n",
    "    def calcNickels(self):\n",
    "        amtNickels = self.amount / 5\n",
    "        self.amount = self.amount - (5 * amtNickels)\n",
    "        print(\"You got this amount of Nickels:\", amtNickels)\n",
    "    \n",
    "    def calcDimes(self):\n",
    "        amtDimes = self.amount / 10\n",
    "        self.amount = self.amount - (10 * amtDimes)\n",
    "        print(\"You got this amount of Dimes:\", amtDimes)\n",
    "    \n",
    "    def calcQuarters(self):\n",
    "        amtQuarters = self.amount / 25\n",
    "        self.amount = self.amount - (25 * amtQuarters)\n",
    "        print(\"You got this amount of Quarters:\", amtQuarters)\n",
    "        \n",
    "    def getChange(self):\n",
    "        self.calcQuarters()\n",
    "        self.calcDimes()\n",
    "        self.calcNickels()\n",
    "        self.calcPennies()\n",
    "        "
   ]
  },
  {
   "cell_type": "markdown",
   "metadata": {},
   "source": [
    "### Change Program GUI\n",
    "\n",
    "By inputting a GUI within the notebook, the user can play with the object created below. I also deleted the object since everytime the button is activated, a new object is instantiated. Of course, I can leave it outside and update it, but I thought I'd rather implement it this way since the object is not used anywhere else."
   ]
  },
  {
   "cell_type": "code",
   "execution_count": null,
   "metadata": {
    "scrolled": true
   },
   "outputs": [],
   "source": [
    "changeSlider = widgets.IntSlider(\n",
    "    value = 0,\n",
    "    description = \"Get Change: \",\n",
    "    min = 0,\n",
    "    max = 100\n",
    ")\n",
    "\n",
    "convertButton = widgets.Button(description=\"Convert!\")\n",
    "\n",
    "def displayChangeGUI():\n",
    "    display(changeSlider)\n",
    "    display(convertButton)\n",
    "\n",
    "\n",
    "def getCalculatedChange(b):\n",
    "    clear_output()\n",
    "    displayChangeGUI()\n",
    "    changeObj = Change(changeSlider.value)\n",
    "    changeObj.getChange()\n",
    "    del changeObj\n",
    "    \n",
    "    \n",
    "displayChangeGUI()\n",
    "convertButton.on_click(getCalculatedChange)"
   ]
  },
  {
   "cell_type": "markdown",
   "metadata": {},
   "source": [
    "## Kinematics Calculator\n",
    " A simple calculator to do basic kinematic solutions."
   ]
  },
  {
   "cell_type": "code",
   "execution_count": null,
   "metadata": {},
   "outputs": [],
   "source": [
    "def getVelocity(initialVelocity, finalVelocity, deltaTime):\n",
    "    return (finalVelocity - initialVelocity) / deltaTime\n",
    "\n",
    "def getAcceleration(initialVelocity, finalVelocity, deltaTime):\n",
    "    return (finalVelocity - initialVelocity) / deltaTime\n",
    "\n",
    "def getDistance(initialVelocity, finalVelocity, deltaTime):\n",
    "    return ((initialVelocity + finalVelocity)/2) * deltaTime\n"
   ]
  },
  {
   "cell_type": "code",
   "execution_count": null,
   "metadata": {},
   "outputs": [],
   "source": [
    "getKinematicButton = widgets.Button(description=\"Solve Kinematic!\")\n",
    "\n",
    "kinematicOptions = widgets.Dropdown(\n",
    "    options=['Distance','Velocity', 'Acceleration'],\n",
    "    value='Distance',\n",
    "    description='Pick One to Solve:'\n",
    ")\n",
    "\n",
    "initVelocity = widgets.IntSlider(\n",
    "    value = 0,\n",
    "    description = \"Initial Velocity: \",\n",
    "    min = 0,\n",
    "    max = 100\n",
    ")\n",
    "\n",
    "finalVelocity =  widgets.IntSlider(\n",
    "    value = 0,\n",
    "    description = \"Final Velocity: \",\n",
    "    min = 0,\n",
    "    max = 100\n",
    ")\n",
    "\n",
    "deltaTime = widgets.FloatSlider(\n",
    "    value = 0,\n",
    "    description =  \"Time (Mins)\",\n",
    "    min = 0,\n",
    "    max = 60\n",
    ")\n",
    "\n",
    "def showCalcGUI():\n",
    "    display(kinematicOptions)\n",
    "    display(initVelocity)\n",
    "    display(finalVelocity)\n",
    "    display(deltaTime)\n",
    "    display(getKinematicButton)\n",
    "    \n",
    "def getCalcKinematic(b):\n",
    "    clear_output()\n",
    "    showCalcGUI()\n",
    "    if kinematicOptions.value == 'Distance':\n",
    "        distance = getDistance(initVelocity.value, finalVelocity.value, deltaTime.value)\n",
    "        print(\"Your Distance is:\", distance, 'm')\n",
    "    elif kinematicOptions.value == 'Velocity':\n",
    "        velocity = getVelocity(initVelocity.value, finalVelocity.value, deltaTime.value)\n",
    "        print(\"Your Velocity is:\", velocity, 'm/s')\n",
    "    elif kinematicOptions.value == 'Acceleration':\n",
    "        acceleration = getAcceleration(initVelocity.value, finalVelocity.value, deltaTime.value)\n",
    "        print(\"Your Acceleration is:\", acceleration, 'm/s^2')\n",
    "    \n",
    "\n",
    "getKinematicButton.on_click(getCalcKinematic)\n",
    "showCalcGUI()"
   ]
  },
  {
   "cell_type": "markdown",
   "metadata": {},
   "source": [
    "## Credit Card Validator\n",
    "Takes in a credit card number from a common credit card vendor (Visa, MasterCard, American Express, Discoverer) and validates it to make sure that it is a valid number (look into how credit cards use a checksum)."
   ]
  },
  {
   "cell_type": "code",
   "execution_count": 3,
   "metadata": {},
   "outputs": [],
   "source": [
    "def validateCCNum(num):\n",
    "    lst = [int(x)*2 for x in str(num)]\n",
    "    for index in range(len(lst)):\n",
    "        if lst[index] >= 10:\n",
    "            tempLst = [int(x) for x in str(lst[index])]\n",
    "            newElement = 0\n",
    "            for tempNum in tempLst:\n",
    "                newElement += tempNum\n",
    "            lst.remove(lst[index])\n",
    "            lst.insert(index,newElement)\n",
    "    \n",
    "    \n",
    "    checkSum = 0\n",
    "    for num in lst:\n",
    "        checkSum += num\n",
    "        \n",
    "    if(checkSum % 10 == 0):\n",
    "        return True\n",
    "    else:\n",
    "        return False"
   ]
  },
  {
   "cell_type": "code",
   "execution_count": 4,
   "metadata": {},
   "outputs": [
    {
     "data": {
      "application/vnd.jupyter.widget-view+json": {
       "model_id": "6df1afb0c52648f49cc4c40a27993918",
       "version_major": 2,
       "version_minor": 0
      },
      "text/html": [
       "<p>Failed to display Jupyter Widget of type <code>Text</code>.</p>\n",
       "<p>\n",
       "  If you're reading this message in the Jupyter Notebook or JupyterLab Notebook, it may mean\n",
       "  that the widgets JavaScript is still loading. If this message persists, it\n",
       "  likely means that the widgets JavaScript library is either not installed or\n",
       "  not enabled. See the <a href=\"https://ipywidgets.readthedocs.io/en/stable/user_install.html\">Jupyter\n",
       "  Widgets Documentation</a> for setup instructions.\n",
       "</p>\n",
       "<p>\n",
       "  If you're reading this message in another frontend (for example, a static\n",
       "  rendering on GitHub or <a href=\"https://nbviewer.jupyter.org/\">NBViewer</a>),\n",
       "  it may mean that your frontend doesn't currently support widgets.\n",
       "</p>\n"
      ],
      "text/plain": [
       "Text(value=u'22222', description=u'Credit Card:', placeholder=u'####-####-####')"
      ]
     },
     "metadata": {},
     "output_type": "display_data"
    },
    {
     "data": {
      "application/vnd.jupyter.widget-view+json": {
       "model_id": "3cdeb665df6f479ba96c82f60d942f8c",
       "version_major": 2,
       "version_minor": 0
      },
      "text/html": [
       "<p>Failed to display Jupyter Widget of type <code>Button</code>.</p>\n",
       "<p>\n",
       "  If you're reading this message in the Jupyter Notebook or JupyterLab Notebook, it may mean\n",
       "  that the widgets JavaScript is still loading. If this message persists, it\n",
       "  likely means that the widgets JavaScript library is either not installed or\n",
       "  not enabled. See the <a href=\"https://ipywidgets.readthedocs.io/en/stable/user_install.html\">Jupyter\n",
       "  Widgets Documentation</a> for setup instructions.\n",
       "</p>\n",
       "<p>\n",
       "  If you're reading this message in another frontend (for example, a static\n",
       "  rendering on GitHub or <a href=\"https://nbviewer.jupyter.org/\">NBViewer</a>),\n",
       "  it may mean that your frontend doesn't currently support widgets.\n",
       "</p>\n"
      ],
      "text/plain": [
       "Button(description=u'Validate!', style=ButtonStyle())"
      ]
     },
     "metadata": {},
     "output_type": "display_data"
    },
    {
     "name": "stdout",
     "output_type": "stream",
     "text": [
      "('Your Credit Card #:', True)\n"
     ]
    }
   ],
   "source": [
    "inputNumber = widgets.Text(\n",
    "    value='',\n",
    "    placeholder='####-####-####',\n",
    "    description='Credit Card:',\n",
    "    disabled=False\n",
    ")\n",
    "\n",
    "validateNumber = widgets.Button(description=\"Validate!\")\n",
    "\n",
    "def displayCreditCardValidatorGUI():\n",
    "    display(inputNumber)\n",
    "    display(validateNumber)\n",
    "\n",
    "def getCCNum(b):\n",
    "    clear_output()\n",
    "    displayCreditCardValidatorGUI()\n",
    "    print(\"Your Credit Card #:\",validateCCNum(inputNumber.value))\n",
    "    \n",
    "    \n",
    "displayCreditCardValidatorGUI()\n",
    "validateNumber.on_click(getCCNum)"
   ]
  },
  {
   "cell_type": "code",
   "execution_count": null,
   "metadata": {},
   "outputs": [],
   "source": []
  }
 ],
 "metadata": {
  "kernelspec": {
   "display_name": "Python 3",
   "language": "python",
   "name": "python3"
  },
  "language_info": {
   "codemirror_mode": {
    "name": "ipython",
    "version": 2
   },
   "file_extension": ".py",
   "mimetype": "text/x-python",
   "name": "python",
   "nbconvert_exporter": "python",
   "pygments_lexer": "ipython2",
   "version": "2.7.12"
  }
 },
 "nbformat": 4,
 "nbformat_minor": 2
}
