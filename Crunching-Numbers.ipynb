{
 "cells": [
  {
   "cell_type": "markdown",
   "metadata": {},
   "source": [
    "# Jupyter Notebook \n",
    "\n",
    "This notebook intends to test the GUI portion of the notebook."
   ]
  },
  {
   "cell_type": "code",
   "execution_count": 1,
   "metadata": {},
   "outputs": [],
   "source": [
    "from __future__ import print_function\n",
    "from ipywidgets import interact, interactive, fixed, interact_manual\n",
    "import ipywidgets as widgets"
   ]
  },
  {
   "cell_type": "markdown",
   "metadata": {},
   "source": [
    "## Fibonacci Sequence\n",
    "Enter a number and have the program generate the Fibonacci sequence to that number or to the Nth number."
   ]
  },
  {
   "cell_type": "code",
   "execution_count": 2,
   "metadata": {},
   "outputs": [],
   "source": [
    "def fib(num):\n",
    "    if(num <= 1):\n",
    "        return num\n",
    "    \n",
    "    return fib(num-1) + fib(num-2)"
   ]
  },
  {
   "cell_type": "code",
   "execution_count": 3,
   "metadata": {},
   "outputs": [],
   "source": [
    "def printFib(num):\n",
    "    print(\"Fibonacci: \", fib(num))"
   ]
  },
  {
   "cell_type": "code",
   "execution_count": 4,
   "metadata": {
    "scrolled": true
   },
   "outputs": [
    {
     "data": {
      "application/vnd.jupyter.widget-view+json": {
       "model_id": "5c375deef41e4397940475bfa20954fd",
       "version_major": 2,
       "version_minor": 0
      },
      "text/html": [
       "<p>Failed to display Jupyter Widget of type <code>interactive</code>.</p>\n",
       "<p>\n",
       "  If you're reading this message in the Jupyter Notebook or JupyterLab Notebook, it may mean\n",
       "  that the widgets JavaScript is still loading. If this message persists, it\n",
       "  likely means that the widgets JavaScript library is either not installed or\n",
       "  not enabled. See the <a href=\"https://ipywidgets.readthedocs.io/en/stable/user_install.html\">Jupyter\n",
       "  Widgets Documentation</a> for setup instructions.\n",
       "</p>\n",
       "<p>\n",
       "  If you're reading this message in another frontend (for example, a static\n",
       "  rendering on GitHub or <a href=\"https://nbviewer.jupyter.org/\">NBViewer</a>),\n",
       "  it may mean that your frontend doesn't currently support widgets.\n",
       "</p>\n"
      ],
      "text/plain": [
       "interactive(children=(IntSlider(value=5, description=u'num', max=15, min=-5), Output()), _dom_classes=('widget-interact',))"
      ]
     },
     "metadata": {},
     "output_type": "display_data"
    }
   ],
   "source": [
    "x = interactive(printFib, num=5, min=0, max=100);\n",
    "display(x)"
   ]
  },
  {
   "cell_type": "markdown",
   "metadata": {},
   "source": [
    "## Temperature Unit Converter\n",
    "Converts various units between one another. The user enters the type of unit being entered, the type of unit they want to convert to and then the value. The program will then make the conversion."
   ]
  },
  {
   "cell_type": "code",
   "execution_count": 38,
   "metadata": {},
   "outputs": [
    {
     "data": {
      "application/vnd.jupyter.widget-view+json": {
       "model_id": "887b4310a0754a198a1b2ff24a59dd36",
       "version_major": 2,
       "version_minor": 0
      },
      "text/html": [
       "<p>Failed to display Jupyter Widget of type <code>Dropdown</code>.</p>\n",
       "<p>\n",
       "  If you're reading this message in the Jupyter Notebook or JupyterLab Notebook, it may mean\n",
       "  that the widgets JavaScript is still loading. If this message persists, it\n",
       "  likely means that the widgets JavaScript library is either not installed or\n",
       "  not enabled. See the <a href=\"https://ipywidgets.readthedocs.io/en/stable/user_install.html\">Jupyter\n",
       "  Widgets Documentation</a> for setup instructions.\n",
       "</p>\n",
       "<p>\n",
       "  If you're reading this message in another frontend (for example, a static\n",
       "  rendering on GitHub or <a href=\"https://nbviewer.jupyter.org/\">NBViewer</a>),\n",
       "  it may mean that your frontend doesn't currently support widgets.\n",
       "</p>\n"
      ],
      "text/plain": [
       "Dropdown(description=u'From:', options=('Celsius', 'Farenheit', 'Kelvin'), value='Celsius')"
      ]
     },
     "metadata": {},
     "output_type": "display_data"
    },
    {
     "data": {
      "application/vnd.jupyter.widget-view+json": {
       "model_id": "f54f7c106b23499ea87c27d6e366c237",
       "version_major": 2,
       "version_minor": 0
      },
      "text/html": [
       "<p>Failed to display Jupyter Widget of type <code>Dropdown</code>.</p>\n",
       "<p>\n",
       "  If you're reading this message in the Jupyter Notebook or JupyterLab Notebook, it may mean\n",
       "  that the widgets JavaScript is still loading. If this message persists, it\n",
       "  likely means that the widgets JavaScript library is either not installed or\n",
       "  not enabled. See the <a href=\"https://ipywidgets.readthedocs.io/en/stable/user_install.html\">Jupyter\n",
       "  Widgets Documentation</a> for setup instructions.\n",
       "</p>\n",
       "<p>\n",
       "  If you're reading this message in another frontend (for example, a static\n",
       "  rendering on GitHub or <a href=\"https://nbviewer.jupyter.org/\">NBViewer</a>),\n",
       "  it may mean that your frontend doesn't currently support widgets.\n",
       "</p>\n"
      ],
      "text/plain": [
       "Dropdown(description=u'To:', options=('Celsius', 'Farenheit', 'Kelvin'), value='Celsius')"
      ]
     },
     "metadata": {},
     "output_type": "display_data"
    },
    {
     "data": {
      "application/vnd.jupyter.widget-view+json": {
       "model_id": "b9f2bffd376440dcbb608b5abbaef4ba",
       "version_major": 2,
       "version_minor": 0
      },
      "text/html": [
       "<p>Failed to display Jupyter Widget of type <code>IntSlider</code>.</p>\n",
       "<p>\n",
       "  If you're reading this message in the Jupyter Notebook or JupyterLab Notebook, it may mean\n",
       "  that the widgets JavaScript is still loading. If this message persists, it\n",
       "  likely means that the widgets JavaScript library is either not installed or\n",
       "  not enabled. See the <a href=\"https://ipywidgets.readthedocs.io/en/stable/user_install.html\">Jupyter\n",
       "  Widgets Documentation</a> for setup instructions.\n",
       "</p>\n",
       "<p>\n",
       "  If you're reading this message in another frontend (for example, a static\n",
       "  rendering on GitHub or <a href=\"https://nbviewer.jupyter.org/\">NBViewer</a>),\n",
       "  it may mean that your frontend doesn't currently support widgets.\n",
       "</p>\n"
      ],
      "text/plain": [
       "IntSlider(value=0, description=u'Temperature')"
      ]
     },
     "metadata": {},
     "output_type": "display_data"
    },
    {
     "data": {
      "application/vnd.jupyter.widget-view+json": {
       "model_id": "28a176aa0d2d451da1241dab84cf7868",
       "version_major": 2,
       "version_minor": 0
      },
      "text/html": [
       "<p>Failed to display Jupyter Widget of type <code>Button</code>.</p>\n",
       "<p>\n",
       "  If you're reading this message in the Jupyter Notebook or JupyterLab Notebook, it may mean\n",
       "  that the widgets JavaScript is still loading. If this message persists, it\n",
       "  likely means that the widgets JavaScript library is either not installed or\n",
       "  not enabled. See the <a href=\"https://ipywidgets.readthedocs.io/en/stable/user_install.html\">Jupyter\n",
       "  Widgets Documentation</a> for setup instructions.\n",
       "</p>\n",
       "<p>\n",
       "  If you're reading this message in another frontend (for example, a static\n",
       "  rendering on GitHub or <a href=\"https://nbviewer.jupyter.org/\">NBViewer</a>),\n",
       "  it may mean that your frontend doesn't currently support widgets.\n",
       "</p>\n"
      ],
      "text/plain": [
       "Button(description=u'Convert!', style=ButtonStyle())"
      ]
     },
     "metadata": {},
     "output_type": "display_data"
    },
    {
     "name": "stdout",
     "output_type": "stream",
     "text": [
      "Please put in Earthly Temperatures. Thanks.\n",
      "Your New Converted Temperature is:  -1\n"
     ]
    }
   ],
   "source": [
    "def convert(temp, oldUnit, newUnit):\n",
    "    if oldUnit is \"Celsius\" and newUnit is \"Farenheit\":\n",
    "        return ((temp * 9/5) + 32)\n",
    "    elif oldUnit is \"Celsius\" and newUnit is \"Kelvin\":\n",
    "        return temp + 273.15\n",
    "    elif oldUnit is \"Farenheit\" and newUnit is \"Celsius\":\n",
    "        return ((temp -32) * 5/9)\n",
    "    elif oldUnit is \"Farenheit\" and newUnit is \"Kelvin\":\n",
    "        return ((temp + 459.67) * 5/9)\n",
    "    elif oldUnit is \"Kelvin\" and newUnit is \"Celsius\":\n",
    "        return (temp - 273.15)\n",
    "    elif oldUnit is \"Kelvin\" and newUnit is \"Farenheit\":\n",
    "        return ((temp * 9/5) - 459.67)\n",
    "    else:\n",
    "        print(\"Please put in Earthly Temperatures. Thanks.\")\n",
    "        return -1\n",
    "    \n",
    "oldUnit = widgets.Dropdown(\n",
    "    options=['Celsius', 'Farenheit', 'Kelvin'],\n",
    "    value='Celsius',\n",
    "    description='From:',\n",
    "    disabled=False\n",
    ")\n",
    "\n",
    "newUnit = widgets.Dropdown(\n",
    "    options=['Celsius', 'Farenheit', 'Kelvin'],\n",
    "    value='Celsius',\n",
    "    description='To:',\n",
    "    disabled=False\n",
    ")\n",
    "\n",
    "display(oldUnit)\n",
    "display(newUnit)\n",
    "\n",
    "temp = widgets.IntSlider(\n",
    "    value = 0,\n",
    "    description='Temperature',\n",
    "    min = 0,\n",
    "    max = 100\n",
    "    \n",
    ")\n",
    "display(temp)\n",
    "\n",
    "button = widgets.Button(description=\"Convert!\")\n",
    "display(button)\n",
    "\n",
    "def on_button_clicked(b):\n",
    "    tempConverted = convert(temp.value, oldUnit.value, newUnit.value)\n",
    "    print(\"Your New Converted Temperature is: \",tempConverted)\n",
    "\n",
    "button.on_click(on_button_clicked)\n",
    "\n"
   ]
  },
  {
   "cell_type": "markdown",
   "metadata": {},
   "source": [
    "## Change Return Program\n",
    "The user enters a cost and then the amount of money given. The program will figure out the change and the number of quarters, dimes, nickels, pennies needed for the change."
   ]
  },
  {
   "cell_type": "code",
   "execution_count": 7,
   "metadata": {},
   "outputs": [],
   "source": [
    "class Change(object):\n",
    "    \n",
    "    def __init__(self, amount):\n",
    "        self.amount = amount\n",
    "        \n",
    "    def calcPennies(self):\n",
    "        print(\"You got this amount of Pennies:\", self.amount)\n",
    "    \n",
    "    def calcNickels(self):\n",
    "        amtNickels = self.amount / 5\n",
    "        self.amount = self.amount - (10 * amtNickels)\n",
    "        print(\"You got this amount of Nickels:\", amtNickels)\n",
    "    \n",
    "    def calcDimes(self):\n",
    "        amtDimes = self.amount / 10\n",
    "        self.amount = self.amount - (10 * amtDimes)\n",
    "        print(\"You got this amount of Dimes:\", amtDimes)\n",
    "    \n",
    "    def calcQuarters(self):\n",
    "        amtQuarters = self.amount / 25\n",
    "        self.amount = self.amount - (25 * amtQuarters)\n",
    "        print(\"You got this amount of Quarters:\", amtQuarters)\n",
    "        \n",
    "    def getChange(self):\n",
    "        self.calcQuarters()\n",
    "        self.calcDimes()\n",
    "        self.calcNickels()\n",
    "        self.calcPennies()"
   ]
  },
  {
   "cell_type": "code",
   "execution_count": 10,
   "metadata": {},
   "outputs": [
    {
     "name": "stdout",
     "output_type": "stream",
     "text": [
      "('You got this amount of Quarters:', 2)\n",
      "('You got this amount of Dimes:', 0)\n",
      "('You got this amount of Nickels:', 0)\n",
      "('You got this amount of Pennies:', 1)\n"
     ]
    }
   ],
   "source": [
    "change = Change(51)\n",
    "change.getChange()"
   ]
  },
  {
   "cell_type": "markdown",
   "metadata": {},
   "source": [
    "## Mortgage Calculator\n",
    "Calculate the monthly payments of a fixed term mortgage over given Nth terms at a given interest rate. Also figure out how long it will take the user to pay back the loan. For added complexity, add an option for users to select the compounding interval (Monthly, Weekly, Daily, Continually)."
   ]
  },
  {
   "cell_type": "markdown",
   "metadata": {},
   "source": [
    "## Credit Card Validator\n",
    "Takes in a credit card number from a common credit card vendor (Visa, MasterCard, American Express, Discoverer) and validates it to make sure that it is a valid number (look into how credit cards use a checksum)."
   ]
  },
  {
   "cell_type": "markdown",
   "metadata": {},
   "source": [
    "## Calculator\n",
    "A simple calculator to do basic operators. Make it a scientific calculator for added complexity."
   ]
  },
  {
   "cell_type": "code",
   "execution_count": null,
   "metadata": {},
   "outputs": [],
   "source": []
  }
 ],
 "metadata": {
  "kernelspec": {
   "display_name": "Python 3",
   "language": "python",
   "name": "python3"
  },
  "language_info": {
   "codemirror_mode": {
    "name": "ipython",
    "version": 2
   },
   "file_extension": ".py",
   "mimetype": "text/x-python",
   "name": "python",
   "nbconvert_exporter": "python",
   "pygments_lexer": "ipython2",
   "version": "2.7.12"
  },
  "widgets": {
   "application/vnd.jupyter.widget-state+json": {
    "state": {
     "00a3d41040da4b0489fa33e39941dca5": {
      "model_module": "@jupyter-widgets/controls",
      "model_module_version": "1.1.0",
      "model_name": "IntSliderModel",
      "state": {
       "description": "n",
       "layout": "IPY_MODEL_6970c1932ce7488da153d99e80eaa1df",
       "max": 15,
       "min": -5,
       "style": "IPY_MODEL_3e83cd17fb654f228fc440432cc6ab5f",
       "value": 5
      }
     },
     "0abb4b7f63074369a476bcc3cc500d2a": {
      "model_module": "@jupyter-widgets/controls",
      "model_module_version": "1.1.0",
      "model_name": "VBoxModel",
      "state": {
       "_dom_classes": [
        "widget-interact"
       ],
       "children": [
        "IPY_MODEL_3e6492c861824d0e99607fde925733e4",
        "IPY_MODEL_5a83f23c9181438abbb1ec9265c0a38f"
       ],
       "layout": "IPY_MODEL_cf4515501b0d4b029b11df78c203b680"
      }
     },
     "0df24c8c3e3a4748adaa3a8de37d432a": {
      "model_module": "@jupyter-widgets/controls",
      "model_module_version": "1.1.0",
      "model_name": "VBoxModel",
      "state": {
       "_dom_classes": [
        "widget-interact"
       ],
       "children": [
        "IPY_MODEL_00a3d41040da4b0489fa33e39941dca5",
        "IPY_MODEL_ff01d4b08ef94b969b7896d975e07f5d"
       ],
       "layout": "IPY_MODEL_fefcd78bab1e47ee93d555bba9348933"
      }
     },
     "2b872c47e6ca486b952932cc87b25f5a": {
      "model_module": "@jupyter-widgets/base",
      "model_module_version": "1.0.0",
      "model_name": "LayoutModel",
      "state": {}
     },
     "3e6492c861824d0e99607fde925733e4": {
      "model_module": "@jupyter-widgets/controls",
      "model_module_version": "1.1.0",
      "model_name": "IntSliderModel",
      "state": {
       "description": "n",
       "layout": "IPY_MODEL_6d276dfedfb54f2c86d3e6c4086f0a29",
       "max": 15,
       "min": -5,
       "style": "IPY_MODEL_c89e9d8ac1774ae6a23047329aae663c",
       "value": 9
      }
     },
     "3e83cd17fb654f228fc440432cc6ab5f": {
      "model_module": "@jupyter-widgets/controls",
      "model_module_version": "1.1.0",
      "model_name": "SliderStyleModel",
      "state": {
       "description_width": ""
      }
     },
     "5230839a414744a989c9d26ccd1ae576": {
      "model_module": "@jupyter-widgets/controls",
      "model_module_version": "1.1.0",
      "model_name": "HTMLModel",
      "state": {
       "layout": "IPY_MODEL_cc59fcd417e54e9ea5efe291154d7a72",
       "style": "IPY_MODEL_918d92dcc61248218354d988d1d432ee",
       "value": "Hello <b>World</b>"
      }
     },
     "542033c0e8054346917a459ca1b20835": {
      "model_module": "@jupyter-widgets/base",
      "model_module_version": "1.0.0",
      "model_name": "LayoutModel",
      "state": {}
     },
     "5a83f23c9181438abbb1ec9265c0a38f": {
      "model_module": "@jupyter-widgets/output",
      "model_module_version": "1.1.0",
      "model_name": "OutputModel",
      "state": {
       "_model_module_version": "1.1.0",
       "_view_module_version": "1.1.0",
       "layout": "IPY_MODEL_caafbbeaa474477093f1dd0af9d4982e",
       "outputs": [
        {
         "name": "stdout",
         "output_type": "stream",
         "text": "34\n"
        }
       ]
      }
     },
     "6970c1932ce7488da153d99e80eaa1df": {
      "model_module": "@jupyter-widgets/base",
      "model_module_version": "1.0.0",
      "model_name": "LayoutModel",
      "state": {}
     },
     "6d276dfedfb54f2c86d3e6c4086f0a29": {
      "model_module": "@jupyter-widgets/base",
      "model_module_version": "1.0.0",
      "model_name": "LayoutModel",
      "state": {}
     },
     "918d92dcc61248218354d988d1d432ee": {
      "model_module": "@jupyter-widgets/controls",
      "model_module_version": "1.1.0",
      "model_name": "DescriptionStyleModel",
      "state": {
       "description_width": ""
      }
     },
     "c89e9d8ac1774ae6a23047329aae663c": {
      "model_module": "@jupyter-widgets/controls",
      "model_module_version": "1.1.0",
      "model_name": "SliderStyleModel",
      "state": {
       "description_width": ""
      }
     },
     "caafbbeaa474477093f1dd0af9d4982e": {
      "model_module": "@jupyter-widgets/base",
      "model_module_version": "1.0.0",
      "model_name": "LayoutModel",
      "state": {}
     },
     "cb2261c8a51b4d8c9c4581c38a68ad9b": {
      "model_module": "@jupyter-widgets/controls",
      "model_module_version": "1.1.0",
      "model_name": "ButtonModel",
      "state": {
       "description": "Click me",
       "layout": "IPY_MODEL_542033c0e8054346917a459ca1b20835",
       "style": "IPY_MODEL_f902c16f799a4141bc4e7bc051c3a63d"
      }
     },
     "cc59fcd417e54e9ea5efe291154d7a72": {
      "model_module": "@jupyter-widgets/base",
      "model_module_version": "1.0.0",
      "model_name": "LayoutModel",
      "state": {}
     },
     "cf4515501b0d4b029b11df78c203b680": {
      "model_module": "@jupyter-widgets/base",
      "model_module_version": "1.0.0",
      "model_name": "LayoutModel",
      "state": {}
     },
     "f902c16f799a4141bc4e7bc051c3a63d": {
      "model_module": "@jupyter-widgets/controls",
      "model_module_version": "1.1.0",
      "model_name": "ButtonStyleModel",
      "state": {}
     },
     "fefcd78bab1e47ee93d555bba9348933": {
      "model_module": "@jupyter-widgets/base",
      "model_module_version": "1.0.0",
      "model_name": "LayoutModel",
      "state": {}
     },
     "ff01d4b08ef94b969b7896d975e07f5d": {
      "model_module": "@jupyter-widgets/output",
      "model_module_version": "1.1.0",
      "model_name": "OutputModel",
      "state": {
       "_model_module_version": "1.1.0",
       "_view_module_version": "1.1.0",
       "layout": "IPY_MODEL_2b872c47e6ca486b952932cc87b25f5a",
       "outputs": [
        {
         "name": "stdout",
         "output_type": "stream",
         "text": "5\n"
        }
       ]
      }
     }
    },
    "version_major": 2,
    "version_minor": 0
   }
  }
 },
 "nbformat": 4,
 "nbformat_minor": 2
}
