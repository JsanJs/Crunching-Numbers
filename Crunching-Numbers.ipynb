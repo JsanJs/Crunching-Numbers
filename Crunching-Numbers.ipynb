{
 "cells": [
  {
   "cell_type": "markdown",
   "metadata": {},
   "source": [
    "# Jupyter Notebook GUI Test\n",
    "\n",
    "This notebook intends to test the GUI portion of the notebook."
   ]
  },
  {
   "cell_type": "code",
   "execution_count": 36,
   "metadata": {},
   "outputs": [],
   "source": [
    "from __future__ import print_function\n",
    "from IPython.display import clear_output\n",
    "from ipywidgets import interact, interactive, fixed, interact_manual\n",
    "import ipywidgets as widgets"
   ]
  },
  {
   "cell_type": "markdown",
   "metadata": {},
   "source": [
    "## Fibonacci Sequence\n",
    "Enter a number and have the program generate the Fibonacci sequence to that number or to the Nth number."
   ]
  },
  {
   "cell_type": "code",
   "execution_count": 37,
   "metadata": {},
   "outputs": [],
   "source": [
    "def fib(num):\n",
    "    if(num <= 1):\n",
    "        return num\n",
    "    \n",
    "    return fib(num-1) + fib(num-2)"
   ]
  },
  {
   "cell_type": "code",
   "execution_count": 38,
   "metadata": {},
   "outputs": [],
   "source": [
    "def printFib(num):\n",
    "    print(\"Fibonacci: \", fib(num))"
   ]
  },
  {
   "cell_type": "code",
   "execution_count": 39,
   "metadata": {
    "scrolled": true
   },
   "outputs": [
    {
     "data": {
      "application/vnd.jupyter.widget-view+json": {
       "model_id": "9b1f731f58af43368dc49994a9e5ee6e",
       "version_major": 2,
       "version_minor": 0
      },
      "text/html": [
       "<p>Failed to display Jupyter Widget of type <code>interactive</code>.</p>\n",
       "<p>\n",
       "  If you're reading this message in the Jupyter Notebook or JupyterLab Notebook, it may mean\n",
       "  that the widgets JavaScript is still loading. If this message persists, it\n",
       "  likely means that the widgets JavaScript library is either not installed or\n",
       "  not enabled. See the <a href=\"https://ipywidgets.readthedocs.io/en/stable/user_install.html\">Jupyter\n",
       "  Widgets Documentation</a> for setup instructions.\n",
       "</p>\n",
       "<p>\n",
       "  If you're reading this message in another frontend (for example, a static\n",
       "  rendering on GitHub or <a href=\"https://nbviewer.jupyter.org/\">NBViewer</a>),\n",
       "  it may mean that your frontend doesn't currently support widgets.\n",
       "</p>\n"
      ],
      "text/plain": [
       "interactive(children=(IntSlider(value=5, description=u'num', max=15, min=-5), Output()), _dom_classes=('widget-interact',))"
      ]
     },
     "metadata": {},
     "output_type": "display_data"
    }
   ],
   "source": [
    "x = interactive(printFib, num=5, min=0, max=100);\n",
    "display(x)"
   ]
  },
  {
   "cell_type": "markdown",
   "metadata": {},
   "source": [
    "## Temperature Unit Converter\n",
    "Converts various units between one another. The user enters the type of unit being entered, the type of unit they want to convert to and then the value. The program will then make the conversion."
   ]
  },
  {
   "cell_type": "code",
   "execution_count": 40,
   "metadata": {},
   "outputs": [],
   "source": [
    "def convert(temp, oldUnit, newUnit):\n",
    "    if oldUnit is \"Celsius\" and newUnit is \"Farenheit\":\n",
    "        return ((temp * 9/5) + 32)\n",
    "    elif oldUnit is \"Celsius\" and newUnit is \"Kelvin\":\n",
    "        return temp + 273.15\n",
    "    elif oldUnit is \"Farenheit\" and newUnit is \"Celsius\":\n",
    "        return ((temp -32) * 5/9)\n",
    "    elif oldUnit is \"Farenheit\" and newUnit is \"Kelvin\":\n",
    "        return ((temp + 459.67) * 5/9)\n",
    "    elif oldUnit is \"Kelvin\" and newUnit is \"Celsius\":\n",
    "        return (temp - 273.15)\n",
    "    elif oldUnit is \"Kelvin\" and newUnit is \"Farenheit\":\n",
    "        return ((temp * 9/5) - 459.67)\n",
    "    else:\n",
    "        print(\"Please put in Earthly Temperatures. Thanks.\")\n",
    "        return -1\n",
    "    \n"
   ]
  },
  {
   "cell_type": "markdown",
   "metadata": {},
   "source": [
    "### Temperature Unit Converter GUI\n",
    "Here is a simple program that converts the convert the temperature into other units. To test the implementation of the Jupyter GUI, I used the Jupyter Widgets which can be seen below."
   ]
  },
  {
   "cell_type": "code",
   "execution_count": 41,
   "metadata": {},
   "outputs": [
    {
     "data": {
      "application/vnd.jupyter.widget-view+json": {
       "model_id": "552e1ed1c0d6400ea3414af992f877d0",
       "version_major": 2,
       "version_minor": 0
      },
      "text/html": [
       "<p>Failed to display Jupyter Widget of type <code>Dropdown</code>.</p>\n",
       "<p>\n",
       "  If you're reading this message in the Jupyter Notebook or JupyterLab Notebook, it may mean\n",
       "  that the widgets JavaScript is still loading. If this message persists, it\n",
       "  likely means that the widgets JavaScript library is either not installed or\n",
       "  not enabled. See the <a href=\"https://ipywidgets.readthedocs.io/en/stable/user_install.html\">Jupyter\n",
       "  Widgets Documentation</a> for setup instructions.\n",
       "</p>\n",
       "<p>\n",
       "  If you're reading this message in another frontend (for example, a static\n",
       "  rendering on GitHub or <a href=\"https://nbviewer.jupyter.org/\">NBViewer</a>),\n",
       "  it may mean that your frontend doesn't currently support widgets.\n",
       "</p>\n"
      ],
      "text/plain": [
       "Dropdown(description=u'From:', options=('Celsius', 'Farenheit', 'Kelvin'), value='Celsius')"
      ]
     },
     "metadata": {},
     "output_type": "display_data"
    },
    {
     "data": {
      "application/vnd.jupyter.widget-view+json": {
       "model_id": "c0bf282ee0484e5da415e02edb05f1ee",
       "version_major": 2,
       "version_minor": 0
      },
      "text/html": [
       "<p>Failed to display Jupyter Widget of type <code>Dropdown</code>.</p>\n",
       "<p>\n",
       "  If you're reading this message in the Jupyter Notebook or JupyterLab Notebook, it may mean\n",
       "  that the widgets JavaScript is still loading. If this message persists, it\n",
       "  likely means that the widgets JavaScript library is either not installed or\n",
       "  not enabled. See the <a href=\"https://ipywidgets.readthedocs.io/en/stable/user_install.html\">Jupyter\n",
       "  Widgets Documentation</a> for setup instructions.\n",
       "</p>\n",
       "<p>\n",
       "  If you're reading this message in another frontend (for example, a static\n",
       "  rendering on GitHub or <a href=\"https://nbviewer.jupyter.org/\">NBViewer</a>),\n",
       "  it may mean that your frontend doesn't currently support widgets.\n",
       "</p>\n"
      ],
      "text/plain": [
       "Dropdown(description=u'To:', options=('Celsius', 'Farenheit', 'Kelvin'), value='Celsius')"
      ]
     },
     "metadata": {},
     "output_type": "display_data"
    },
    {
     "data": {
      "application/vnd.jupyter.widget-view+json": {
       "model_id": "455ccafe0e9c436e9a4d48219a6353e3",
       "version_major": 2,
       "version_minor": 0
      },
      "text/html": [
       "<p>Failed to display Jupyter Widget of type <code>IntSlider</code>.</p>\n",
       "<p>\n",
       "  If you're reading this message in the Jupyter Notebook or JupyterLab Notebook, it may mean\n",
       "  that the widgets JavaScript is still loading. If this message persists, it\n",
       "  likely means that the widgets JavaScript library is either not installed or\n",
       "  not enabled. See the <a href=\"https://ipywidgets.readthedocs.io/en/stable/user_install.html\">Jupyter\n",
       "  Widgets Documentation</a> for setup instructions.\n",
       "</p>\n",
       "<p>\n",
       "  If you're reading this message in another frontend (for example, a static\n",
       "  rendering on GitHub or <a href=\"https://nbviewer.jupyter.org/\">NBViewer</a>),\n",
       "  it may mean that your frontend doesn't currently support widgets.\n",
       "</p>\n"
      ],
      "text/plain": [
       "IntSlider(value=0, description=u'Temperature')"
      ]
     },
     "metadata": {},
     "output_type": "display_data"
    },
    {
     "data": {
      "application/vnd.jupyter.widget-view+json": {
       "model_id": "61562b64b81a4b85a5ccd23376126a7a",
       "version_major": 2,
       "version_minor": 0
      },
      "text/html": [
       "<p>Failed to display Jupyter Widget of type <code>Button</code>.</p>\n",
       "<p>\n",
       "  If you're reading this message in the Jupyter Notebook or JupyterLab Notebook, it may mean\n",
       "  that the widgets JavaScript is still loading. If this message persists, it\n",
       "  likely means that the widgets JavaScript library is either not installed or\n",
       "  not enabled. See the <a href=\"https://ipywidgets.readthedocs.io/en/stable/user_install.html\">Jupyter\n",
       "  Widgets Documentation</a> for setup instructions.\n",
       "</p>\n",
       "<p>\n",
       "  If you're reading this message in another frontend (for example, a static\n",
       "  rendering on GitHub or <a href=\"https://nbviewer.jupyter.org/\">NBViewer</a>),\n",
       "  it may mean that your frontend doesn't currently support widgets.\n",
       "</p>\n"
      ],
      "text/plain": [
       "Button(description=u'Convert!', style=ButtonStyle())"
      ]
     },
     "metadata": {},
     "output_type": "display_data"
    }
   ],
   "source": [
    "oldUnit = widgets.Dropdown(\n",
    "    options=['Celsius', 'Farenheit', 'Kelvin'],\n",
    "    value='Celsius',\n",
    "    description='From:',\n",
    "    disabled=False\n",
    ")\n",
    "\n",
    "newUnit = widgets.Dropdown(\n",
    "    options=['Celsius', 'Farenheit', 'Kelvin'],\n",
    "    value='Celsius',\n",
    "    description='To:',\n",
    "    disabled=False\n",
    ")\n",
    "\n",
    "\n",
    "temp = widgets.IntSlider(\n",
    "    value = 0,\n",
    "    description='Temperature',\n",
    "    min = 0,\n",
    "    max = 100\n",
    "    \n",
    ")\n",
    "\n",
    "button = widgets.Button(description=\"Convert!\")\n",
    "\n",
    "def displayTempGUI():\n",
    "    display(oldUnit)\n",
    "    display(newUnit)\n",
    "    display(temp)\n",
    "    display(button)\n",
    "\n",
    "\n",
    "def on_button_clicked(b):\n",
    "    clear_output()\n",
    "    displayTempGUI()\n",
    "    tempConverted = convert(temp.value, oldUnit.value, newUnit.value)\n",
    "    print(\"Your New Converted Temperature is: \",tempConverted)\n",
    "\n",
    "    \n",
    "displayTempGUI()\n",
    "button.on_click(on_button_clicked)"
   ]
  },
  {
   "cell_type": "markdown",
   "metadata": {},
   "source": [
    "## Change Return Program\n",
    "The user enters a cost and then the amount of money given. The program will figure out the change and the number of quarters, dimes, nickels, pennies needed for the change."
   ]
  },
  {
   "cell_type": "code",
   "execution_count": 52,
   "metadata": {},
   "outputs": [],
   "source": [
    "class Change(object):\n",
    "    \n",
    "    def __init__(self, amount):\n",
    "        self.amount = amount\n",
    "\n",
    "    def calcPennies(self):\n",
    "        print(\"You got this amount of Pennies:\", self.amount)\n",
    "    \n",
    "    def calcNickels(self):\n",
    "        amtNickels = self.amount / 5\n",
    "        self.amount = self.amount - (5 * amtNickels)\n",
    "        print(\"You got this amount of Nickels:\", amtNickels)\n",
    "    \n",
    "    def calcDimes(self):\n",
    "        amtDimes = self.amount / 10\n",
    "        self.amount = self.amount - (10 * amtDimes)\n",
    "        print(\"You got this amount of Dimes:\", amtDimes)\n",
    "    \n",
    "    def calcQuarters(self):\n",
    "        amtQuarters = self.amount / 25\n",
    "        self.amount = self.amount - (25 * amtQuarters)\n",
    "        print(\"You got this amount of Quarters:\", amtQuarters)\n",
    "        \n",
    "    def getChange(self):\n",
    "        self.calcQuarters()\n",
    "        self.calcDimes()\n",
    "        self.calcNickels()\n",
    "        self.calcPennies()\n",
    "        "
   ]
  },
  {
   "cell_type": "markdown",
   "metadata": {},
   "source": [
    "### Change Program GUI\n",
    "\n",
    "By inputting a GUI within the notebook, the user can play with the object created below. I also deleted the object since everytime the button is activated, a new object is instantiated. Of course, I can leave it outside and update it, but I thought I'd rather implement it this way since the object is not used anywhere else."
   ]
  },
  {
   "cell_type": "code",
   "execution_count": 53,
   "metadata": {
    "scrolled": true
   },
   "outputs": [
    {
     "data": {
      "application/vnd.jupyter.widget-view+json": {
       "model_id": "9efb921db2ef4488a2f4cf51a3243f39",
       "version_major": 2,
       "version_minor": 0
      },
      "text/html": [
       "<p>Failed to display Jupyter Widget of type <code>IntSlider</code>.</p>\n",
       "<p>\n",
       "  If you're reading this message in the Jupyter Notebook or JupyterLab Notebook, it may mean\n",
       "  that the widgets JavaScript is still loading. If this message persists, it\n",
       "  likely means that the widgets JavaScript library is either not installed or\n",
       "  not enabled. See the <a href=\"https://ipywidgets.readthedocs.io/en/stable/user_install.html\">Jupyter\n",
       "  Widgets Documentation</a> for setup instructions.\n",
       "</p>\n",
       "<p>\n",
       "  If you're reading this message in another frontend (for example, a static\n",
       "  rendering on GitHub or <a href=\"https://nbviewer.jupyter.org/\">NBViewer</a>),\n",
       "  it may mean that your frontend doesn't currently support widgets.\n",
       "</p>\n"
      ],
      "text/plain": [
       "IntSlider(value=87, description=u'Get Change: ')"
      ]
     },
     "metadata": {},
     "output_type": "display_data"
    },
    {
     "data": {
      "application/vnd.jupyter.widget-view+json": {
       "model_id": "34941b24ec8941e2a4f76721736398bb",
       "version_major": 2,
       "version_minor": 0
      },
      "text/html": [
       "<p>Failed to display Jupyter Widget of type <code>Button</code>.</p>\n",
       "<p>\n",
       "  If you're reading this message in the Jupyter Notebook or JupyterLab Notebook, it may mean\n",
       "  that the widgets JavaScript is still loading. If this message persists, it\n",
       "  likely means that the widgets JavaScript library is either not installed or\n",
       "  not enabled. See the <a href=\"https://ipywidgets.readthedocs.io/en/stable/user_install.html\">Jupyter\n",
       "  Widgets Documentation</a> for setup instructions.\n",
       "</p>\n",
       "<p>\n",
       "  If you're reading this message in another frontend (for example, a static\n",
       "  rendering on GitHub or <a href=\"https://nbviewer.jupyter.org/\">NBViewer</a>),\n",
       "  it may mean that your frontend doesn't currently support widgets.\n",
       "</p>\n"
      ],
      "text/plain": [
       "Button(description=u'Convert!', style=ButtonStyle())"
      ]
     },
     "metadata": {},
     "output_type": "display_data"
    },
    {
     "name": "stdout",
     "output_type": "stream",
     "text": [
      "You got this amount of Quarters: 3\n",
      "You got this amount of Dimes: 1\n",
      "You got this amount of Nickels: 0\n",
      "You got this amount of Pennies: 2\n"
     ]
    }
   ],
   "source": [
    "changeSlider = widgets.IntSlider(\n",
    "    value = 0,\n",
    "    description = \"Get Change: \",\n",
    "    min = 0,\n",
    "    max = 100\n",
    ")\n",
    "\n",
    "convertButton = widgets.Button(description=\"Convert!\")\n",
    "\n",
    "def displayChangeGUI():\n",
    "    display(changeSlider)\n",
    "    display(convertButton)\n",
    "\n",
    "\n",
    "def getCalculatedChange(b):\n",
    "    clear_output()\n",
    "    displayChangeGUI()\n",
    "    changeObj = Change(changeSlider.value)\n",
    "    changeObj.getChange()\n",
    "    del changeObj\n",
    "    \n",
    "    \n",
    "displayChangeGUI()\n",
    "convertButton.on_click(getCalculatedChange)"
   ]
  },
  {
   "cell_type": "markdown",
   "metadata": {},
   "source": [
    "## Kinematics Calculator\n",
    " A simple calculator to do basic kinematic solutions."
   ]
  },
  {
   "cell_type": "code",
   "execution_count": 67,
   "metadata": {},
   "outputs": [],
   "source": [
    "def getVelocity(initialVelocity, finalVelocity, deltaTime):\n",
    "    return (finalVelocity - initialVelocity) / deltaTime\n",
    "\n",
    "def getAcceleration(initialVelocity, finalVelocity, deltaTime):\n",
    "    return (finalVelocity - initialVelocity) / deltaTime\n",
    "\n",
    "def getDistance(initialVelocity, finalVelocity, deltaTime):\n",
    "    return ((initialVelocity + finalVelocity)/2) * deltaTime\n"
   ]
  },
  {
   "cell_type": "code",
   "execution_count": 70,
   "metadata": {},
   "outputs": [
    {
     "data": {
      "application/vnd.jupyter.widget-view+json": {
       "model_id": "26384e51a7a146eeb348c7dcb449276a",
       "version_major": 2,
       "version_minor": 0
      },
      "text/html": [
       "<p>Failed to display Jupyter Widget of type <code>Dropdown</code>.</p>\n",
       "<p>\n",
       "  If you're reading this message in the Jupyter Notebook or JupyterLab Notebook, it may mean\n",
       "  that the widgets JavaScript is still loading. If this message persists, it\n",
       "  likely means that the widgets JavaScript library is either not installed or\n",
       "  not enabled. See the <a href=\"https://ipywidgets.readthedocs.io/en/stable/user_install.html\">Jupyter\n",
       "  Widgets Documentation</a> for setup instructions.\n",
       "</p>\n",
       "<p>\n",
       "  If you're reading this message in another frontend (for example, a static\n",
       "  rendering on GitHub or <a href=\"https://nbviewer.jupyter.org/\">NBViewer</a>),\n",
       "  it may mean that your frontend doesn't currently support widgets.\n",
       "</p>\n"
      ],
      "text/plain": [
       "Dropdown(description=u'Pick One to Solve:', index=1, options=('Distance', 'Velocity', 'Acceleration'), value='Velocity')"
      ]
     },
     "metadata": {},
     "output_type": "display_data"
    },
    {
     "data": {
      "application/vnd.jupyter.widget-view+json": {
       "model_id": "a730ae7ca6654fe09b3a4b2943bc37d7",
       "version_major": 2,
       "version_minor": 0
      },
      "text/html": [
       "<p>Failed to display Jupyter Widget of type <code>IntSlider</code>.</p>\n",
       "<p>\n",
       "  If you're reading this message in the Jupyter Notebook or JupyterLab Notebook, it may mean\n",
       "  that the widgets JavaScript is still loading. If this message persists, it\n",
       "  likely means that the widgets JavaScript library is either not installed or\n",
       "  not enabled. See the <a href=\"https://ipywidgets.readthedocs.io/en/stable/user_install.html\">Jupyter\n",
       "  Widgets Documentation</a> for setup instructions.\n",
       "</p>\n",
       "<p>\n",
       "  If you're reading this message in another frontend (for example, a static\n",
       "  rendering on GitHub or <a href=\"https://nbviewer.jupyter.org/\">NBViewer</a>),\n",
       "  it may mean that your frontend doesn't currently support widgets.\n",
       "</p>\n"
      ],
      "text/plain": [
       "IntSlider(value=36, description=u'Initial Velocity: ')"
      ]
     },
     "metadata": {},
     "output_type": "display_data"
    },
    {
     "data": {
      "application/vnd.jupyter.widget-view+json": {
       "model_id": "9f213ecf0cd64ae4a0610cc1524177cc",
       "version_major": 2,
       "version_minor": 0
      },
      "text/html": [
       "<p>Failed to display Jupyter Widget of type <code>IntSlider</code>.</p>\n",
       "<p>\n",
       "  If you're reading this message in the Jupyter Notebook or JupyterLab Notebook, it may mean\n",
       "  that the widgets JavaScript is still loading. If this message persists, it\n",
       "  likely means that the widgets JavaScript library is either not installed or\n",
       "  not enabled. See the <a href=\"https://ipywidgets.readthedocs.io/en/stable/user_install.html\">Jupyter\n",
       "  Widgets Documentation</a> for setup instructions.\n",
       "</p>\n",
       "<p>\n",
       "  If you're reading this message in another frontend (for example, a static\n",
       "  rendering on GitHub or <a href=\"https://nbviewer.jupyter.org/\">NBViewer</a>),\n",
       "  it may mean that your frontend doesn't currently support widgets.\n",
       "</p>\n"
      ],
      "text/plain": [
       "IntSlider(value=59, description=u'Final Velocity: ')"
      ]
     },
     "metadata": {},
     "output_type": "display_data"
    },
    {
     "data": {
      "application/vnd.jupyter.widget-view+json": {
       "model_id": "8c3081de0b30468db5b8a98060056ebc",
       "version_major": 2,
       "version_minor": 0
      },
      "text/html": [
       "<p>Failed to display Jupyter Widget of type <code>FloatSlider</code>.</p>\n",
       "<p>\n",
       "  If you're reading this message in the Jupyter Notebook or JupyterLab Notebook, it may mean\n",
       "  that the widgets JavaScript is still loading. If this message persists, it\n",
       "  likely means that the widgets JavaScript library is either not installed or\n",
       "  not enabled. See the <a href=\"https://ipywidgets.readthedocs.io/en/stable/user_install.html\">Jupyter\n",
       "  Widgets Documentation</a> for setup instructions.\n",
       "</p>\n",
       "<p>\n",
       "  If you're reading this message in another frontend (for example, a static\n",
       "  rendering on GitHub or <a href=\"https://nbviewer.jupyter.org/\">NBViewer</a>),\n",
       "  it may mean that your frontend doesn't currently support widgets.\n",
       "</p>\n"
      ],
      "text/plain": [
       "FloatSlider(value=27.6, description=u'Time (Mins)', max=60.0)"
      ]
     },
     "metadata": {},
     "output_type": "display_data"
    },
    {
     "data": {
      "application/vnd.jupyter.widget-view+json": {
       "model_id": "c06936bc00444b438b2d5fb01bcd70ba",
       "version_major": 2,
       "version_minor": 0
      },
      "text/html": [
       "<p>Failed to display Jupyter Widget of type <code>Button</code>.</p>\n",
       "<p>\n",
       "  If you're reading this message in the Jupyter Notebook or JupyterLab Notebook, it may mean\n",
       "  that the widgets JavaScript is still loading. If this message persists, it\n",
       "  likely means that the widgets JavaScript library is either not installed or\n",
       "  not enabled. See the <a href=\"https://ipywidgets.readthedocs.io/en/stable/user_install.html\">Jupyter\n",
       "  Widgets Documentation</a> for setup instructions.\n",
       "</p>\n",
       "<p>\n",
       "  If you're reading this message in another frontend (for example, a static\n",
       "  rendering on GitHub or <a href=\"https://nbviewer.jupyter.org/\">NBViewer</a>),\n",
       "  it may mean that your frontend doesn't currently support widgets.\n",
       "</p>\n"
      ],
      "text/plain": [
       "Button(description=u'Solve Kinematic!', style=ButtonStyle())"
      ]
     },
     "metadata": {},
     "output_type": "display_data"
    },
    {
     "name": "stdout",
     "output_type": "stream",
     "text": [
      "Your Velocity is: 0.833333333333 m/s\n"
     ]
    }
   ],
   "source": [
    "getKinematicButton = widgets.Button(description=\"Solve Kinematic!\")\n",
    "\n",
    "kinematicOptions = widgets.Dropdown(\n",
    "    options=['Distance','Velocity', 'Acceleration'],\n",
    "    value='Distance',\n",
    "    description='Pick One to Solve:'\n",
    ")\n",
    "\n",
    "initVelocity = widgets.IntSlider(\n",
    "    value = 0,\n",
    "    description = \"Initial Velocity: \",\n",
    "    min = 0,\n",
    "    max = 100\n",
    ")\n",
    "\n",
    "finalVelocity =  widgets.IntSlider(\n",
    "    value = 0,\n",
    "    description = \"Final Velocity: \",\n",
    "    min = 0,\n",
    "    max = 100\n",
    ")\n",
    "\n",
    "deltaTime = widgets.FloatSlider(\n",
    "    value = 0,\n",
    "    description =  \"Time (Mins)\",\n",
    "    min = 0,\n",
    "    max = 60\n",
    ")\n",
    "\n",
    "def showCalcGUI():\n",
    "    display(kinematicOptions)\n",
    "    display(initVelocity)\n",
    "    display(finalVelocity)\n",
    "    display(deltaTime)\n",
    "    display(getKinematicButton)\n",
    "    \n",
    "def getCalcKinematic(b):\n",
    "    clear_output()\n",
    "    showCalcGUI()\n",
    "    if kinematicOptions.value == 'Distance':\n",
    "        distance = getDistance(initVelocity.value, finalVelocity.value, deltaTime.value)\n",
    "        print(\"Your Distance is:\", distance, 'm')\n",
    "    elif kinematicOptions.value == 'Velocity':\n",
    "        velocity = getVelocity(initVelocity.value, finalVelocity.value, deltaTime.value)\n",
    "        print(\"Your Velocity is:\", velocity, 'm/s')\n",
    "    elif kinematicOptions.value == 'Acceleration':\n",
    "        acceleration = getAcceleration(initVelocity.value, finalVelocity.value, deltaTime.value)\n",
    "        print(\"Your Acceleration is:\", acceleration, 'm/s^2')\n",
    "    \n",
    "\n",
    "getKinematicButton.on_click(getCalcKinematic)\n",
    "showCalcGUI()"
   ]
  },
  {
   "cell_type": "markdown",
   "metadata": {},
   "source": [
    "## Credit Card Validator\n",
    "Takes in a credit card number from a common credit card vendor (Visa, MasterCard, American Express, Discoverer) and validates it to make sure that it is a valid number (look into how credit cards use a checksum)."
   ]
  },
  {
   "cell_type": "code",
   "execution_count": 108,
   "metadata": {},
   "outputs": [],
   "source": [
    "def validateCCNum(num):\n",
    "    lst = [int(x)*2 for x in str(num)]\n",
    "    for index in range(len(lst)):\n",
    "        if lst[index] >= 10:\n",
    "            tempLst = [int(x) for x in str(lst[index])]\n",
    "            newElement = 0\n",
    "            for tempNum in tempLst:\n",
    "                newElement += tempNum\n",
    "            lst.remove(lst[index])\n",
    "            lst.insert(index,newElement)\n",
    "    \n",
    "    \n",
    "    checkSum = 0\n",
    "    for num in lst:\n",
    "        checkSum += num\n",
    "        \n",
    "    if(checkSum % 10 == 0):\n",
    "        return True\n",
    "    else:\n",
    "        return False"
   ]
  },
  {
   "cell_type": "code",
   "execution_count": 111,
   "metadata": {},
   "outputs": [
    {
     "data": {
      "application/vnd.jupyter.widget-view+json": {
       "model_id": "132939efe0264823a5e41f4ea87a6407",
       "version_major": 2,
       "version_minor": 0
      },
      "text/html": [
       "<p>Failed to display Jupyter Widget of type <code>Text</code>.</p>\n",
       "<p>\n",
       "  If you're reading this message in the Jupyter Notebook or JupyterLab Notebook, it may mean\n",
       "  that the widgets JavaScript is still loading. If this message persists, it\n",
       "  likely means that the widgets JavaScript library is either not installed or\n",
       "  not enabled. See the <a href=\"https://ipywidgets.readthedocs.io/en/stable/user_install.html\">Jupyter\n",
       "  Widgets Documentation</a> for setup instructions.\n",
       "</p>\n",
       "<p>\n",
       "  If you're reading this message in another frontend (for example, a static\n",
       "  rendering on GitHub or <a href=\"https://nbviewer.jupyter.org/\">NBViewer</a>),\n",
       "  it may mean that your frontend doesn't currently support widgets.\n",
       "</p>\n"
      ],
      "text/plain": [
       "Text(value=u'22222', description=u'Credit Card:', placeholder=u'####-####-####')"
      ]
     },
     "metadata": {},
     "output_type": "display_data"
    },
    {
     "data": {
      "application/vnd.jupyter.widget-view+json": {
       "model_id": "a28637ff21724d558d31bda670188dbd",
       "version_major": 2,
       "version_minor": 0
      },
      "text/html": [
       "<p>Failed to display Jupyter Widget of type <code>Button</code>.</p>\n",
       "<p>\n",
       "  If you're reading this message in the Jupyter Notebook or JupyterLab Notebook, it may mean\n",
       "  that the widgets JavaScript is still loading. If this message persists, it\n",
       "  likely means that the widgets JavaScript library is either not installed or\n",
       "  not enabled. See the <a href=\"https://ipywidgets.readthedocs.io/en/stable/user_install.html\">Jupyter\n",
       "  Widgets Documentation</a> for setup instructions.\n",
       "</p>\n",
       "<p>\n",
       "  If you're reading this message in another frontend (for example, a static\n",
       "  rendering on GitHub or <a href=\"https://nbviewer.jupyter.org/\">NBViewer</a>),\n",
       "  it may mean that your frontend doesn't currently support widgets.\n",
       "</p>\n"
      ],
      "text/plain": [
       "Button(description=u'Validate!', style=ButtonStyle())"
      ]
     },
     "metadata": {},
     "output_type": "display_data"
    },
    {
     "name": "stdout",
     "output_type": "stream",
     "text": [
      "Your Credit Card #: True\n"
     ]
    }
   ],
   "source": [
    "inputNumber = widgets.Text(\n",
    "    value='',\n",
    "    placeholder='####-####-####',\n",
    "    description='Credit Card:',\n",
    "    disabled=False\n",
    ")\n",
    "\n",
    "validateNumber = widgets.Button(description=\"Validate!\")\n",
    "\n",
    "def displayCreditCardValidatorGUI():\n",
    "    display(inputNumber)\n",
    "    display(validateNumber)\n",
    "\n",
    "def getCCNum(b):\n",
    "    clear_output()\n",
    "    displayCreditCardValidatorGUI()\n",
    "    print(\"Your Credit Card #:\",validateCCNum(inputNumber.value))\n",
    "    \n",
    "    \n",
    "displayCreditCardValidatorGUI()\n",
    "validateNumber.on_click(getCCNum)"
   ]
  }
 ],
 "metadata": {
  "kernelspec": {
   "display_name": "Python 3",
   "language": "python",
   "name": "python3"
  },
  "language_info": {
   "codemirror_mode": {
    "name": "ipython",
    "version": 2
   },
   "file_extension": ".py",
   "mimetype": "text/x-python",
   "name": "python",
   "nbconvert_exporter": "python",
   "pygments_lexer": "ipython2",
   "version": "2.7.12"
  },
  "widgets": {
   "application/vnd.jupyter.widget-state+json": {
    "state": {
     "00a3d41040da4b0489fa33e39941dca5": {
      "model_module": "@jupyter-widgets/controls",
      "model_module_version": "1.1.0",
      "model_name": "IntSliderModel",
      "state": {
       "description": "n",
       "layout": "IPY_MODEL_6970c1932ce7488da153d99e80eaa1df",
       "max": 15,
       "min": -5,
       "style": "IPY_MODEL_3e83cd17fb654f228fc440432cc6ab5f",
       "value": 5
      }
     },
     "0abb4b7f63074369a476bcc3cc500d2a": {
      "model_module": "@jupyter-widgets/controls",
      "model_module_version": "1.1.0",
      "model_name": "VBoxModel",
      "state": {
       "_dom_classes": [
        "widget-interact"
       ],
       "children": [
        "IPY_MODEL_3e6492c861824d0e99607fde925733e4",
        "IPY_MODEL_5a83f23c9181438abbb1ec9265c0a38f"
       ],
       "layout": "IPY_MODEL_cf4515501b0d4b029b11df78c203b680"
      }
     },
     "0df24c8c3e3a4748adaa3a8de37d432a": {
      "model_module": "@jupyter-widgets/controls",
      "model_module_version": "1.1.0",
      "model_name": "VBoxModel",
      "state": {
       "_dom_classes": [
        "widget-interact"
       ],
       "children": [
        "IPY_MODEL_00a3d41040da4b0489fa33e39941dca5",
        "IPY_MODEL_ff01d4b08ef94b969b7896d975e07f5d"
       ],
       "layout": "IPY_MODEL_fefcd78bab1e47ee93d555bba9348933"
      }
     },
     "2b872c47e6ca486b952932cc87b25f5a": {
      "model_module": "@jupyter-widgets/base",
      "model_module_version": "1.0.0",
      "model_name": "LayoutModel",
      "state": {}
     },
     "3e6492c861824d0e99607fde925733e4": {
      "model_module": "@jupyter-widgets/controls",
      "model_module_version": "1.1.0",
      "model_name": "IntSliderModel",
      "state": {
       "description": "n",
       "layout": "IPY_MODEL_6d276dfedfb54f2c86d3e6c4086f0a29",
       "max": 15,
       "min": -5,
       "style": "IPY_MODEL_c89e9d8ac1774ae6a23047329aae663c",
       "value": 9
      }
     },
     "3e83cd17fb654f228fc440432cc6ab5f": {
      "model_module": "@jupyter-widgets/controls",
      "model_module_version": "1.1.0",
      "model_name": "SliderStyleModel",
      "state": {
       "description_width": ""
      }
     },
     "5230839a414744a989c9d26ccd1ae576": {
      "model_module": "@jupyter-widgets/controls",
      "model_module_version": "1.1.0",
      "model_name": "HTMLModel",
      "state": {
       "layout": "IPY_MODEL_cc59fcd417e54e9ea5efe291154d7a72",
       "style": "IPY_MODEL_918d92dcc61248218354d988d1d432ee",
       "value": "Hello <b>World</b>"
      }
     },
     "542033c0e8054346917a459ca1b20835": {
      "model_module": "@jupyter-widgets/base",
      "model_module_version": "1.0.0",
      "model_name": "LayoutModel",
      "state": {}
     },
     "5a83f23c9181438abbb1ec9265c0a38f": {
      "model_module": "@jupyter-widgets/output",
      "model_module_version": "1.1.0",
      "model_name": "OutputModel",
      "state": {
       "_model_module_version": "1.1.0",
       "_view_module_version": "1.1.0",
       "layout": "IPY_MODEL_caafbbeaa474477093f1dd0af9d4982e",
       "outputs": [
        {
         "name": "stdout",
         "output_type": "stream",
         "text": "34\n"
        }
       ]
      }
     },
     "6970c1932ce7488da153d99e80eaa1df": {
      "model_module": "@jupyter-widgets/base",
      "model_module_version": "1.0.0",
      "model_name": "LayoutModel",
      "state": {}
     },
     "6d276dfedfb54f2c86d3e6c4086f0a29": {
      "model_module": "@jupyter-widgets/base",
      "model_module_version": "1.0.0",
      "model_name": "LayoutModel",
      "state": {}
     },
     "918d92dcc61248218354d988d1d432ee": {
      "model_module": "@jupyter-widgets/controls",
      "model_module_version": "1.1.0",
      "model_name": "DescriptionStyleModel",
      "state": {
       "description_width": ""
      }
     },
     "c89e9d8ac1774ae6a23047329aae663c": {
      "model_module": "@jupyter-widgets/controls",
      "model_module_version": "1.1.0",
      "model_name": "SliderStyleModel",
      "state": {
       "description_width": ""
      }
     },
     "caafbbeaa474477093f1dd0af9d4982e": {
      "model_module": "@jupyter-widgets/base",
      "model_module_version": "1.0.0",
      "model_name": "LayoutModel",
      "state": {}
     },
     "cb2261c8a51b4d8c9c4581c38a68ad9b": {
      "model_module": "@jupyter-widgets/controls",
      "model_module_version": "1.1.0",
      "model_name": "ButtonModel",
      "state": {
       "description": "Click me",
       "layout": "IPY_MODEL_542033c0e8054346917a459ca1b20835",
       "style": "IPY_MODEL_f902c16f799a4141bc4e7bc051c3a63d"
      }
     },
     "cc59fcd417e54e9ea5efe291154d7a72": {
      "model_module": "@jupyter-widgets/base",
      "model_module_version": "1.0.0",
      "model_name": "LayoutModel",
      "state": {}
     },
     "cf4515501b0d4b029b11df78c203b680": {
      "model_module": "@jupyter-widgets/base",
      "model_module_version": "1.0.0",
      "model_name": "LayoutModel",
      "state": {}
     },
     "f902c16f799a4141bc4e7bc051c3a63d": {
      "model_module": "@jupyter-widgets/controls",
      "model_module_version": "1.1.0",
      "model_name": "ButtonStyleModel",
      "state": {}
     },
     "fefcd78bab1e47ee93d555bba9348933": {
      "model_module": "@jupyter-widgets/base",
      "model_module_version": "1.0.0",
      "model_name": "LayoutModel",
      "state": {}
     },
     "ff01d4b08ef94b969b7896d975e07f5d": {
      "model_module": "@jupyter-widgets/output",
      "model_module_version": "1.1.0",
      "model_name": "OutputModel",
      "state": {
       "_model_module_version": "1.1.0",
       "_view_module_version": "1.1.0",
       "layout": "IPY_MODEL_2b872c47e6ca486b952932cc87b25f5a",
       "outputs": [
        {
         "name": "stdout",
         "output_type": "stream",
         "text": "5\n"
        }
       ]
      }
     }
    },
    "version_major": 2,
    "version_minor": 0
   }
  }
 },
 "nbformat": 4,
 "nbformat_minor": 2
}
